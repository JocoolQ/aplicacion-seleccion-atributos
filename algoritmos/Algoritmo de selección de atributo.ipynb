{
 "cells": [
  {
   "cell_type": "markdown",
   "metadata": {},
   "source": [
    "# Algoritmo de selección de atributos basado en entropía\n",
    "---\n",
    "## Algoritmo para atributos de tipo categórico"
   ]
  },
  {
   "cell_type": "code",
   "execution_count": 1,
   "metadata": {},
   "outputs": [],
   "source": [
    "import pandas as pd\n",
    "import numpy as np\n",
    "import math as mt"
   ]
  },
  {
   "cell_type": "code",
   "execution_count": 2,
   "metadata": {},
   "outputs": [
    {
     "data": {
      "text/html": [
       "<div>\n",
       "<style scoped>\n",
       "    .dataframe tbody tr th:only-of-type {\n",
       "        vertical-align: middle;\n",
       "    }\n",
       "\n",
       "    .dataframe tbody tr th {\n",
       "        vertical-align: top;\n",
       "    }\n",
       "\n",
       "    .dataframe thead th {\n",
       "        text-align: right;\n",
       "    }\n",
       "</style>\n",
       "<table border=\"1\" class=\"dataframe\">\n",
       "  <thead>\n",
       "    <tr style=\"text-align: right;\">\n",
       "      <th></th>\n",
       "      <th>x1</th>\n",
       "      <th>x2</th>\n",
       "      <th>x3</th>\n",
       "      <th>x4</th>\n",
       "    </tr>\n",
       "  </thead>\n",
       "  <tbody>\n",
       "    <tr>\n",
       "      <th>0</th>\n",
       "      <td>1</td>\n",
       "      <td>A</td>\n",
       "      <td>Alto</td>\n",
       "      <td>A</td>\n",
       "    </tr>\n",
       "    <tr>\n",
       "      <th>1</th>\n",
       "      <td>0</td>\n",
       "      <td>B</td>\n",
       "      <td>Bajo</td>\n",
       "      <td>A</td>\n",
       "    </tr>\n",
       "    <tr>\n",
       "      <th>2</th>\n",
       "      <td>0</td>\n",
       "      <td>C</td>\n",
       "      <td>Alto</td>\n",
       "      <td>B</td>\n",
       "    </tr>\n",
       "    <tr>\n",
       "      <th>3</th>\n",
       "      <td>1</td>\n",
       "      <td>C</td>\n",
       "      <td>Bajo</td>\n",
       "      <td>B</td>\n",
       "    </tr>\n",
       "    <tr>\n",
       "      <th>4</th>\n",
       "      <td>0</td>\n",
       "      <td>A</td>\n",
       "      <td>Bajo</td>\n",
       "      <td>A</td>\n",
       "    </tr>\n",
       "  </tbody>\n",
       "</table>\n",
       "</div>"
      ],
      "text/plain": [
       "   x1 x2    x3 x4\n",
       "0   1  A  Alto  A\n",
       "1   0  B  Bajo  A\n",
       "2   0  C  Alto  B\n",
       "3   1  C  Bajo  B\n",
       "4   0  A  Bajo  A"
      ]
     },
     "execution_count": 2,
     "metadata": {},
     "output_type": "execute_result"
    }
   ],
   "source": [
    "frame_test = pd.DataFrame({'x1':[1,0,0,1,0],\n",
    "                          'x2':['A', 'B', 'C', 'C', 'A'],\n",
    "                          'x3':['Alto', 'Bajo', 'Alto', 'Bajo', 'Bajo'],\n",
    "                          'x4':['A', 'A', 'B', 'B', 'A']})\n",
    "frame_test"
   ]
  },
  {
   "cell_type": "markdown",
   "metadata": {},
   "source": [
    "Se realiza la matriz de similitudes"
   ]
  },
  {
   "cell_type": "code",
   "execution_count": 3,
   "metadata": {},
   "outputs": [
    {
     "data": {
      "text/plain": [
       "array([[0., 0., 0., 0., 0.],\n",
       "       [0., 0., 0., 0., 0.],\n",
       "       [0., 0., 0., 0., 0.],\n",
       "       [0., 0., 0., 0., 0.],\n",
       "       [0., 0., 0., 0., 0.]])"
      ]
     },
     "execution_count": 3,
     "metadata": {},
     "output_type": "execute_result"
    }
   ],
   "source": [
    "similarity_matrix = np.zeros((len(frame_test),len(frame_test)))\n",
    "similarity_matrix"
   ]
  },
  {
   "cell_type": "markdown",
   "metadata": {},
   "source": [
    "Esta es la instrucción para comparar una fila con otra"
   ]
  },
  {
   "cell_type": "code",
   "execution_count": 4,
   "metadata": {},
   "outputs": [
    {
     "data": {
      "text/plain": [
       "0.25"
      ]
     },
     "execution_count": 4,
     "metadata": {},
     "output_type": "execute_result"
    }
   ],
   "source": [
    "((frame_test.iloc[0,:] == frame_test.iloc[1,:]).sum())/len(frame_test.iloc[0,:])"
   ]
  },
  {
   "cell_type": "code",
   "execution_count": 5,
   "metadata": {},
   "outputs": [],
   "source": [
    "for i in range(0, len(similarity_matrix[0])):\n",
    "    for j in range(0, len(similarity_matrix)):\n",
    "        if(j > i):\n",
    "            similarity_matrix[i][j] = ((frame_test.iloc[i,:] == frame_test.iloc[j,:]).sum())/len(frame_test.iloc[i,:])"
   ]
  },
  {
   "cell_type": "code",
   "execution_count": 6,
   "metadata": {},
   "outputs": [
    {
     "data": {
      "text/plain": [
       "array([[0.  , 0.25, 0.25, 0.25, 0.5 ],\n",
       "       [0.  , 0.  , 0.25, 0.25, 0.75],\n",
       "       [0.  , 0.  , 0.  , 0.5 , 0.25],\n",
       "       [0.  , 0.  , 0.  , 0.  , 0.25],\n",
       "       [0.  , 0.  , 0.  , 0.  , 0.  ]])"
      ]
     },
     "execution_count": 6,
     "metadata": {},
     "output_type": "execute_result"
    }
   ],
   "source": [
    "similarity_matrix"
   ]
  },
  {
   "cell_type": "markdown",
   "metadata": {},
   "source": [
    "Se calcula la entropía de cada elemento"
   ]
  },
  {
   "cell_type": "code",
   "execution_count": 7,
   "metadata": {},
   "outputs": [
    {
     "data": {
      "text/plain": [
       "-0.8112781244591328"
      ]
     },
     "execution_count": 7,
     "metadata": {},
     "output_type": "execute_result"
    }
   ],
   "source": [
    "n = similarity_matrix[0][1]\n",
    "result = n * np.log2(n) + (1 - n) * np.log2(1 - n)\n",
    "result"
   ]
  },
  {
   "cell_type": "code",
   "execution_count": 8,
   "metadata": {},
   "outputs": [],
   "source": [
    "entropy_matrix = np.zeros((len(frame_test),len(frame_test)))"
   ]
  },
  {
   "cell_type": "code",
   "execution_count": 9,
   "metadata": {},
   "outputs": [],
   "source": [
    "for i in range(0, len(similarity_matrix[0])):\n",
    "    for j in range(0, len(similarity_matrix)):\n",
    "        if(j > i):\n",
    "            n = similarity_matrix[i][j]\n",
    "            entropy_matrix[i][j] = n * np.log2(n) + (1 - n) * np.log2(1 - n)"
   ]
  },
  {
   "cell_type": "code",
   "execution_count": 10,
   "metadata": {},
   "outputs": [
    {
     "data": {
      "text/plain": [
       "array([[ 0.        , -0.81127812, -0.81127812, -0.81127812, -1.        ],\n",
       "       [ 0.        ,  0.        , -0.81127812, -0.81127812, -0.81127812],\n",
       "       [ 0.        ,  0.        ,  0.        , -1.        , -0.81127812],\n",
       "       [ 0.        ,  0.        ,  0.        ,  0.        , -0.81127812],\n",
       "       [ 0.        ,  0.        ,  0.        ,  0.        ,  0.        ]])"
      ]
     },
     "execution_count": 10,
     "metadata": {},
     "output_type": "execute_result"
    }
   ],
   "source": [
    "entropy_matrix"
   ]
  },
  {
   "cell_type": "code",
   "execution_count": 11,
   "metadata": {},
   "outputs": [
    {
     "data": {
      "text/plain": [
       "-8.490224995673064"
      ]
     },
     "execution_count": 11,
     "metadata": {},
     "output_type": "execute_result"
    }
   ],
   "source": [
    "entropy_matrix.sum()"
   ]
  },
  {
   "cell_type": "markdown",
   "metadata": {},
   "source": [
    "La entropía total es"
   ]
  },
  {
   "cell_type": "code",
   "execution_count": 12,
   "metadata": {},
   "outputs": [
    {
     "data": {
      "text/plain": [
       "8.490224995673064"
      ]
     },
     "execution_count": 12,
     "metadata": {},
     "output_type": "execute_result"
    }
   ],
   "source": [
    "total_entropy = entropy_matrix.sum() * -1\n",
    "total_entropy"
   ]
  },
  {
   "cell_type": "markdown",
   "metadata": {},
   "source": [
    "Cálculo de la entropía sin uno de los atributos"
   ]
  },
  {
   "cell_type": "code",
   "execution_count": 13,
   "metadata": {},
   "outputs": [],
   "source": [
    "frame_test_a = frame_test.drop(frame_test.columns[1], axis = 'columns').copy()"
   ]
  },
  {
   "cell_type": "code",
   "execution_count": 14,
   "metadata": {},
   "outputs": [
    {
     "data": {
      "text/html": [
       "<div>\n",
       "<style scoped>\n",
       "    .dataframe tbody tr th:only-of-type {\n",
       "        vertical-align: middle;\n",
       "    }\n",
       "\n",
       "    .dataframe tbody tr th {\n",
       "        vertical-align: top;\n",
       "    }\n",
       "\n",
       "    .dataframe thead th {\n",
       "        text-align: right;\n",
       "    }\n",
       "</style>\n",
       "<table border=\"1\" class=\"dataframe\">\n",
       "  <thead>\n",
       "    <tr style=\"text-align: right;\">\n",
       "      <th></th>\n",
       "      <th>x1</th>\n",
       "      <th>x3</th>\n",
       "      <th>x4</th>\n",
       "    </tr>\n",
       "  </thead>\n",
       "  <tbody>\n",
       "    <tr>\n",
       "      <th>0</th>\n",
       "      <td>1</td>\n",
       "      <td>Alto</td>\n",
       "      <td>A</td>\n",
       "    </tr>\n",
       "    <tr>\n",
       "      <th>1</th>\n",
       "      <td>0</td>\n",
       "      <td>Bajo</td>\n",
       "      <td>A</td>\n",
       "    </tr>\n",
       "    <tr>\n",
       "      <th>2</th>\n",
       "      <td>0</td>\n",
       "      <td>Alto</td>\n",
       "      <td>B</td>\n",
       "    </tr>\n",
       "    <tr>\n",
       "      <th>3</th>\n",
       "      <td>1</td>\n",
       "      <td>Bajo</td>\n",
       "      <td>B</td>\n",
       "    </tr>\n",
       "    <tr>\n",
       "      <th>4</th>\n",
       "      <td>0</td>\n",
       "      <td>Bajo</td>\n",
       "      <td>A</td>\n",
       "    </tr>\n",
       "  </tbody>\n",
       "</table>\n",
       "</div>"
      ],
      "text/plain": [
       "   x1    x3 x4\n",
       "0   1  Alto  A\n",
       "1   0  Bajo  A\n",
       "2   0  Alto  B\n",
       "3   1  Bajo  B\n",
       "4   0  Bajo  A"
      ]
     },
     "execution_count": 14,
     "metadata": {},
     "output_type": "execute_result"
    }
   ],
   "source": [
    "frame_test_a"
   ]
  },
  {
   "cell_type": "code",
   "execution_count": 15,
   "metadata": {},
   "outputs": [
    {
     "data": {
      "text/plain": [
       "array([[0., 0., 0., 0., 0.],\n",
       "       [0., 0., 0., 0., 0.],\n",
       "       [0., 0., 0., 0., 0.],\n",
       "       [0., 0., 0., 0., 0.],\n",
       "       [0., 0., 0., 0., 0.]])"
      ]
     },
     "execution_count": 15,
     "metadata": {},
     "output_type": "execute_result"
    }
   ],
   "source": [
    "similarity_matrix = np.zeros((len(frame_test_a),len(frame_test_a)))\n",
    "similarity_matrix"
   ]
  },
  {
   "cell_type": "code",
   "execution_count": 16,
   "metadata": {},
   "outputs": [],
   "source": [
    "for i in range(0, len(similarity_matrix[0])):\n",
    "    for j in range(0, len(similarity_matrix)):\n",
    "        if(j > i):\n",
    "            similarity_matrix[i][j] = ((frame_test_a.iloc[i,:] == frame_test_a.iloc[j,:]).sum())/len(frame_test_a.iloc[i,:])"
   ]
  },
  {
   "cell_type": "code",
   "execution_count": 17,
   "metadata": {},
   "outputs": [
    {
     "data": {
      "text/plain": [
       "array([[0.        , 0.33333333, 0.33333333, 0.33333333, 0.33333333],\n",
       "       [0.        , 0.        , 0.33333333, 0.33333333, 1.        ],\n",
       "       [0.        , 0.        , 0.        , 0.33333333, 0.33333333],\n",
       "       [0.        , 0.        , 0.        , 0.        , 0.33333333],\n",
       "       [0.        , 0.        , 0.        , 0.        , 0.        ]])"
      ]
     },
     "execution_count": 17,
     "metadata": {},
     "output_type": "execute_result"
    }
   ],
   "source": [
    "similarity_matrix"
   ]
  },
  {
   "cell_type": "code",
   "execution_count": 18,
   "metadata": {},
   "outputs": [],
   "source": [
    "entropy_matrix = np.zeros((len(frame_test_a),len(frame_test_a)))"
   ]
  },
  {
   "cell_type": "code",
   "execution_count": 19,
   "metadata": {},
   "outputs": [],
   "source": [
    "for i in range(0, len(similarity_matrix[0])):\n",
    "    for j in range(0, len(similarity_matrix)):\n",
    "        if(j > i):\n",
    "            n = similarity_matrix[i][j]\n",
    "            if(n != 0 and n!= 1):\n",
    "                entropy_matrix[i][j] = n * np.log2(n) + (1 - n) * np.log2(1 - n)"
   ]
  },
  {
   "cell_type": "code",
   "execution_count": 20,
   "metadata": {},
   "outputs": [
    {
     "data": {
      "text/plain": [
       "array([[ 0.        , -0.91829583, -0.91829583, -0.91829583, -0.91829583],\n",
       "       [ 0.        ,  0.        , -0.91829583, -0.91829583,  0.        ],\n",
       "       [ 0.        ,  0.        ,  0.        , -0.91829583, -0.91829583],\n",
       "       [ 0.        ,  0.        ,  0.        ,  0.        , -0.91829583],\n",
       "       [ 0.        ,  0.        ,  0.        ,  0.        ,  0.        ]])"
      ]
     },
     "execution_count": 20,
     "metadata": {},
     "output_type": "execute_result"
    }
   ],
   "source": [
    "entropy_matrix"
   ]
  },
  {
   "cell_type": "code",
   "execution_count": 21,
   "metadata": {},
   "outputs": [
    {
     "data": {
      "text/plain": [
       "8.264662506490406"
      ]
     },
     "execution_count": 21,
     "metadata": {},
     "output_type": "execute_result"
    }
   ],
   "source": [
    "total_entropy = entropy_matrix.sum() * -1\n",
    "total_entropy"
   ]
  },
  {
   "cell_type": "code",
   "execution_count": 22,
   "metadata": {},
   "outputs": [],
   "source": [
    "def select_attribute(df):\n",
    "    similarity_matrix = np.zeros((len(df), len(df)))\n",
    "    entropy_matrix = similarity_matrix.copy()\n",
    "    for i in range(0, len(similarity_matrix[0])):\n",
    "        for j in range(0, len(similarity_matrix)):\n",
    "            if(j > i):\n",
    "                similarity_matrix[i][j] = ((df.iloc[i,:] == df.iloc[j,:]).sum())/len(df.iloc[i,:])\n",
    "    \n",
    "    for i in range(0, len(similarity_matrix[0])):\n",
    "        for j in range(0, len(similarity_matrix)):\n",
    "            if(j > i):\n",
    "                n = similarity_matrix[i][j]\n",
    "                if(n != 0 and n!= 1):\n",
    "                    entropy_matrix[i][j] = n * np.log2(n) + (1 - n) * np.log2(1 - n)\n",
    "    \n",
    "    total_entropy = entropy_matrix.sum() * -1\n",
    "    return total_entropy"
   ]
  },
  {
   "cell_type": "code",
   "execution_count": 23,
   "metadata": {},
   "outputs": [],
   "source": [
    "resumen = {}\n",
    "entropias = []\n",
    "numerosidades = []\n",
    "entropia_total = round(select_attribute(frame_test), 3)\n",
    "resumen['Entropía general'] = [select_attribute(frame_test), 0]\n",
    "for i in frame_test.columns:\n",
    "    info = []\n",
    "    entropia = round(select_attribute(frame_test.drop(i, axis = 1).copy()), 3)\n",
    "    numerosidad = frame_test[i].value_counts().count()\n",
    "    entropias.append(entropia)\n",
    "    numerosidades.append(numerosidad)\n",
    "    info.append(entropia)\n",
    "    info.append(numerosidad)\n",
    "    resumen['Entropía sin ' + i] = info"
   ]
  },
  {
   "cell_type": "code",
   "execution_count": 24,
   "metadata": {},
   "outputs": [
    {
     "data": {
      "text/plain": [
       "{'Entropía general': [8.490224995673064, 0],\n",
       " 'Entropía sin x1': [6.428, 2],\n",
       " 'Entropía sin x2': [8.265, 3],\n",
       " 'Entropía sin x3': [6.428, 2],\n",
       " 'Entropía sin x4': [8.265, 2]}"
      ]
     },
     "execution_count": 24,
     "metadata": {},
     "output_type": "execute_result"
    }
   ],
   "source": [
    "resumen"
   ]
  },
  {
   "cell_type": "code",
   "execution_count": 25,
   "metadata": {},
   "outputs": [
    {
     "data": {
      "text/plain": [
       "array([6.428, 8.265, 6.428, 8.265])"
      ]
     },
     "execution_count": 25,
     "metadata": {},
     "output_type": "execute_result"
    }
   ],
   "source": [
    "entropias = np.array(entropias)\n",
    "entropias"
   ]
  },
  {
   "cell_type": "code",
   "execution_count": 26,
   "metadata": {},
   "outputs": [
    {
     "data": {
      "text/plain": [
       "array([1., 1., 1., 1.])"
      ]
     },
     "execution_count": 26,
     "metadata": {},
     "output_type": "execute_result"
    }
   ],
   "source": [
    "a_restar = np.ones(len(entropias))\n",
    "a_restar"
   ]
  },
  {
   "cell_type": "code",
   "execution_count": 27,
   "metadata": {},
   "outputs": [],
   "source": [
    "a_restar *= entropia_total"
   ]
  },
  {
   "cell_type": "code",
   "execution_count": 28,
   "metadata": {},
   "outputs": [
    {
     "data": {
      "text/plain": [
       "array([2.062, 0.225, 2.062, 0.225])"
      ]
     },
     "execution_count": 28,
     "metadata": {},
     "output_type": "execute_result"
    }
   ],
   "source": [
    "restas = np.absolute(a_restar - entropias)\n",
    "restas"
   ]
  },
  {
   "cell_type": "code",
   "execution_count": 29,
   "metadata": {},
   "outputs": [
    {
     "data": {
      "text/plain": [
       "0.22499999999999964"
      ]
     },
     "execution_count": 29,
     "metadata": {},
     "output_type": "execute_result"
    }
   ],
   "source": [
    "minima_entropia = restas.min()\n",
    "minima_entropia"
   ]
  },
  {
   "cell_type": "code",
   "execution_count": 30,
   "metadata": {},
   "outputs": [
    {
     "data": {
      "text/plain": [
       "(array([1, 3], dtype=int64),)"
      ]
     },
     "execution_count": 30,
     "metadata": {},
     "output_type": "execute_result"
    }
   ],
   "source": [
    "indexes = np.where(restas == minima_entropia)\n",
    "indexes"
   ]
  },
  {
   "cell_type": "code",
   "execution_count": 31,
   "metadata": {},
   "outputs": [],
   "source": [
    "attrs = frame_test.columns[indexes]"
   ]
  },
  {
   "cell_type": "code",
   "execution_count": 32,
   "metadata": {},
   "outputs": [
    {
     "data": {
      "text/plain": [
       "['x2', 'x4']"
      ]
     },
     "execution_count": 32,
     "metadata": {},
     "output_type": "execute_result"
    }
   ],
   "source": [
    "attrs = list(attrs)\n",
    "attrs"
   ]
  },
  {
   "cell_type": "code",
   "execution_count": 33,
   "metadata": {},
   "outputs": [],
   "source": [
    "numerosidades = np.array(numerosidades)"
   ]
  },
  {
   "cell_type": "code",
   "execution_count": 34,
   "metadata": {},
   "outputs": [
    {
     "data": {
      "text/plain": [
       "array([3, 2])"
      ]
     },
     "execution_count": 34,
     "metadata": {},
     "output_type": "execute_result"
    }
   ],
   "source": [
    "numerosidades_a_comparar = numerosidades[indexes]\n",
    "numerosidades_a_comparar"
   ]
  },
  {
   "cell_type": "code",
   "execution_count": 35,
   "metadata": {},
   "outputs": [
    {
     "data": {
      "text/plain": [
       "3"
      ]
     },
     "execution_count": 35,
     "metadata": {},
     "output_type": "execute_result"
    }
   ],
   "source": [
    "max_num = numerosidades_a_comparar.max()\n",
    "max_num"
   ]
  },
  {
   "cell_type": "code",
   "execution_count": 36,
   "metadata": {},
   "outputs": [
    {
     "data": {
      "text/plain": [
       "(array([0], dtype=int64),)"
      ]
     },
     "execution_count": 36,
     "metadata": {},
     "output_type": "execute_result"
    }
   ],
   "source": [
    "index_to_erase = np.where(numerosidades_a_comparar == max_num)\n",
    "index_to_erase"
   ]
  },
  {
   "cell_type": "code",
   "execution_count": 37,
   "metadata": {},
   "outputs": [
    {
     "data": {
      "text/plain": [
       "'x2'"
      ]
     },
     "execution_count": 37,
     "metadata": {},
     "output_type": "execute_result"
    }
   ],
   "source": [
    "attr_to_erase = attrs[index_to_erase[0][0]]\n",
    "attr_to_erase"
   ]
  },
  {
   "cell_type": "code",
   "execution_count": 38,
   "metadata": {},
   "outputs": [
    {
     "data": {
      "text/html": [
       "<div>\n",
       "<style scoped>\n",
       "    .dataframe tbody tr th:only-of-type {\n",
       "        vertical-align: middle;\n",
       "    }\n",
       "\n",
       "    .dataframe tbody tr th {\n",
       "        vertical-align: top;\n",
       "    }\n",
       "\n",
       "    .dataframe thead th {\n",
       "        text-align: right;\n",
       "    }\n",
       "</style>\n",
       "<table border=\"1\" class=\"dataframe\">\n",
       "  <thead>\n",
       "    <tr style=\"text-align: right;\">\n",
       "      <th></th>\n",
       "      <th>x1</th>\n",
       "      <th>x3</th>\n",
       "      <th>x4</th>\n",
       "    </tr>\n",
       "  </thead>\n",
       "  <tbody>\n",
       "    <tr>\n",
       "      <th>0</th>\n",
       "      <td>1</td>\n",
       "      <td>Alto</td>\n",
       "      <td>A</td>\n",
       "    </tr>\n",
       "    <tr>\n",
       "      <th>1</th>\n",
       "      <td>0</td>\n",
       "      <td>Bajo</td>\n",
       "      <td>A</td>\n",
       "    </tr>\n",
       "    <tr>\n",
       "      <th>2</th>\n",
       "      <td>0</td>\n",
       "      <td>Alto</td>\n",
       "      <td>B</td>\n",
       "    </tr>\n",
       "    <tr>\n",
       "      <th>3</th>\n",
       "      <td>1</td>\n",
       "      <td>Bajo</td>\n",
       "      <td>B</td>\n",
       "    </tr>\n",
       "    <tr>\n",
       "      <th>4</th>\n",
       "      <td>0</td>\n",
       "      <td>Bajo</td>\n",
       "      <td>A</td>\n",
       "    </tr>\n",
       "  </tbody>\n",
       "</table>\n",
       "</div>"
      ],
      "text/plain": [
       "   x1    x3 x4\n",
       "0   1  Alto  A\n",
       "1   0  Bajo  A\n",
       "2   0  Alto  B\n",
       "3   1  Bajo  B\n",
       "4   0  Bajo  A"
      ]
     },
     "execution_count": 38,
     "metadata": {},
     "output_type": "execute_result"
    }
   ],
   "source": [
    "frame_test.drop(attr_to_erase, axis=1)"
   ]
  },
  {
   "cell_type": "code",
   "execution_count": 39,
   "metadata": {},
   "outputs": [],
   "source": [
    "min_numerosidad = min(numerosidades)"
   ]
  },
  {
   "cell_type": "code",
   "execution_count": 40,
   "metadata": {},
   "outputs": [],
   "source": [
    "frame_test = frame_test.drop(attrs, axis=1).copy()"
   ]
  },
  {
   "cell_type": "code",
   "execution_count": 41,
   "metadata": {},
   "outputs": [
    {
     "data": {
      "text/html": [
       "<div>\n",
       "<style scoped>\n",
       "    .dataframe tbody tr th:only-of-type {\n",
       "        vertical-align: middle;\n",
       "    }\n",
       "\n",
       "    .dataframe tbody tr th {\n",
       "        vertical-align: top;\n",
       "    }\n",
       "\n",
       "    .dataframe thead th {\n",
       "        text-align: right;\n",
       "    }\n",
       "</style>\n",
       "<table border=\"1\" class=\"dataframe\">\n",
       "  <thead>\n",
       "    <tr style=\"text-align: right;\">\n",
       "      <th></th>\n",
       "      <th>x1</th>\n",
       "      <th>x3</th>\n",
       "    </tr>\n",
       "  </thead>\n",
       "  <tbody>\n",
       "    <tr>\n",
       "      <th>0</th>\n",
       "      <td>1</td>\n",
       "      <td>Alto</td>\n",
       "    </tr>\n",
       "    <tr>\n",
       "      <th>1</th>\n",
       "      <td>0</td>\n",
       "      <td>Bajo</td>\n",
       "    </tr>\n",
       "    <tr>\n",
       "      <th>2</th>\n",
       "      <td>0</td>\n",
       "      <td>Alto</td>\n",
       "    </tr>\n",
       "    <tr>\n",
       "      <th>3</th>\n",
       "      <td>1</td>\n",
       "      <td>Bajo</td>\n",
       "    </tr>\n",
       "    <tr>\n",
       "      <th>4</th>\n",
       "      <td>0</td>\n",
       "      <td>Bajo</td>\n",
       "    </tr>\n",
       "  </tbody>\n",
       "</table>\n",
       "</div>"
      ],
      "text/plain": [
       "   x1    x3\n",
       "0   1  Alto\n",
       "1   0  Bajo\n",
       "2   0  Alto\n",
       "3   1  Bajo\n",
       "4   0  Bajo"
      ]
     },
     "execution_count": 41,
     "metadata": {},
     "output_type": "execute_result"
    }
   ],
   "source": [
    "frame_test"
   ]
  },
  {
   "cell_type": "markdown",
   "metadata": {},
   "source": [
    "## Algoritmo para atributos de tipo numérico"
   ]
  },
  {
   "cell_type": "code",
   "execution_count": 42,
   "metadata": {},
   "outputs": [],
   "source": [
    "df_test = pd.read_csv('ejercicio2.csv', sep=',')"
   ]
  },
  {
   "cell_type": "code",
   "execution_count": 83,
   "metadata": {},
   "outputs": [
    {
     "data": {
      "text/html": [
       "<div>\n",
       "<style scoped>\n",
       "    .dataframe tbody tr th:only-of-type {\n",
       "        vertical-align: middle;\n",
       "    }\n",
       "\n",
       "    .dataframe tbody tr th {\n",
       "        vertical-align: top;\n",
       "    }\n",
       "\n",
       "    .dataframe thead th {\n",
       "        text-align: right;\n",
       "    }\n",
       "</style>\n",
       "<table border=\"1\" class=\"dataframe\">\n",
       "  <thead>\n",
       "    <tr style=\"text-align: right;\">\n",
       "      <th></th>\n",
       "      <th>x1</th>\n",
       "      <th>x2</th>\n",
       "      <th>x3</th>\n",
       "      <th>x4</th>\n",
       "      <th>x5</th>\n",
       "      <th>x6</th>\n",
       "      <th>x7</th>\n",
       "      <th>x8</th>\n",
       "      <th>x9</th>\n",
       "      <th>x10</th>\n",
       "      <th>x11</th>\n",
       "    </tr>\n",
       "  </thead>\n",
       "  <tbody>\n",
       "    <tr>\n",
       "      <th>0</th>\n",
       "      <td>25</td>\n",
       "      <td>18</td>\n",
       "      <td>12</td>\n",
       "      <td>1738</td>\n",
       "      <td>393</td>\n",
       "      <td>215</td>\n",
       "      <td>0</td>\n",
       "      <td>67</td>\n",
       "      <td>44</td>\n",
       "      <td>4.6</td>\n",
       "      <td>7.6</td>\n",
       "    </tr>\n",
       "    <tr>\n",
       "      <th>1</th>\n",
       "      <td>1</td>\n",
       "      <td>8</td>\n",
       "      <td>0</td>\n",
       "      <td>858</td>\n",
       "      <td>278</td>\n",
       "      <td>115</td>\n",
       "      <td>13</td>\n",
       "      <td>28</td>\n",
       "      <td>13</td>\n",
       "      <td>5.0</td>\n",
       "      <td>33.8</td>\n",
       "    </tr>\n",
       "    <tr>\n",
       "      <th>2</th>\n",
       "      <td>3</td>\n",
       "      <td>3</td>\n",
       "      <td>4</td>\n",
       "      <td>93</td>\n",
       "      <td>305</td>\n",
       "      <td>101</td>\n",
       "      <td>0</td>\n",
       "      <td>74</td>\n",
       "      <td>48</td>\n",
       "      <td>1.0</td>\n",
       "      <td>6.5</td>\n",
       "    </tr>\n",
       "    <tr>\n",
       "      <th>3</th>\n",
       "      <td>7</td>\n",
       "      <td>5</td>\n",
       "      <td>12</td>\n",
       "      <td>275</td>\n",
       "      <td>401</td>\n",
       "      <td>128</td>\n",
       "      <td>0</td>\n",
       "      <td>45</td>\n",
       "      <td>17</td>\n",
       "      <td>1.0</td>\n",
       "      <td>0.0</td>\n",
       "    </tr>\n",
       "    <tr>\n",
       "      <th>4</th>\n",
       "      <td>8</td>\n",
       "      <td>12</td>\n",
       "      <td>25</td>\n",
       "      <td>132</td>\n",
       "      <td>168</td>\n",
       "      <td>23</td>\n",
       "      <td>0</td>\n",
       "      <td>122</td>\n",
       "      <td>21</td>\n",
       "      <td>3.0</td>\n",
       "      <td>0.0</td>\n",
       "    </tr>\n",
       "  </tbody>\n",
       "</table>\n",
       "</div>"
      ],
      "text/plain": [
       "   x1  x2  x3    x4   x5   x6  x7   x8  x9  x10   x11\n",
       "0  25  18  12  1738  393  215   0   67  44  4.6   7.6\n",
       "1   1   8   0   858  278  115  13   28  13  5.0  33.8\n",
       "2   3   3   4    93  305  101   0   74  48  1.0   6.5\n",
       "3   7   5  12   275  401  128   0   45  17  1.0   0.0\n",
       "4   8  12  25   132  168   23   0  122  21  3.0   0.0"
      ]
     },
     "execution_count": 83,
     "metadata": {},
     "output_type": "execute_result"
    }
   ],
   "source": [
    "df_test = pd.DataFrame({'x1':[25, 1, 3, 7, 8],\n",
    "          'x2': [18, 8, 3, 5, 12],\n",
    "          'x3': [12, 0, 4, 12, 25],\n",
    "          'x4': [1738, 858, 93, 275, 132],\n",
    "          'x5': [393, 278, 305, 401, 168],\n",
    "          'x6': [215, 115, 101, 128, 23],\n",
    "          'x7': [0, 13, 0, 0, 0],\n",
    "          'x8': [67, 28, 74, 45, 122],\n",
    "          'x9': [44, 13, 48, 17, 21],\n",
    "          'x10': [4.6, 5, 1, 1, 3],\n",
    "          'x11': [7.6, 33.8, 6.5, 0, 0]})\n",
    "df_test"
   ]
  },
  {
   "cell_type": "code",
   "execution_count": 45,
   "metadata": {},
   "outputs": [
    {
     "data": {
      "text/html": [
       "<div>\n",
       "<style scoped>\n",
       "    .dataframe tbody tr th:only-of-type {\n",
       "        vertical-align: middle;\n",
       "    }\n",
       "\n",
       "    .dataframe tbody tr th {\n",
       "        vertical-align: top;\n",
       "    }\n",
       "\n",
       "    .dataframe thead th {\n",
       "        text-align: right;\n",
       "    }\n",
       "</style>\n",
       "<table border=\"1\" class=\"dataframe\">\n",
       "  <thead>\n",
       "    <tr style=\"text-align: right;\">\n",
       "      <th></th>\n",
       "      <th>x1</th>\n",
       "      <th>x2</th>\n",
       "      <th>x3</th>\n",
       "      <th>x4</th>\n",
       "      <th>x5</th>\n",
       "      <th>x6</th>\n",
       "      <th>x7</th>\n",
       "      <th>x8</th>\n",
       "      <th>x9</th>\n",
       "      <th>x10</th>\n",
       "      <th>x11</th>\n",
       "    </tr>\n",
       "  </thead>\n",
       "  <tbody>\n",
       "    <tr>\n",
       "      <th>0</th>\n",
       "      <td>25</td>\n",
       "      <td>18</td>\n",
       "      <td>12</td>\n",
       "      <td>1738</td>\n",
       "      <td>393</td>\n",
       "      <td>215</td>\n",
       "      <td>0</td>\n",
       "      <td>67</td>\n",
       "      <td>44</td>\n",
       "      <td>4.6</td>\n",
       "      <td>7.6</td>\n",
       "    </tr>\n",
       "    <tr>\n",
       "      <th>1</th>\n",
       "      <td>1</td>\n",
       "      <td>8</td>\n",
       "      <td>0</td>\n",
       "      <td>858</td>\n",
       "      <td>278</td>\n",
       "      <td>115</td>\n",
       "      <td>13</td>\n",
       "      <td>28</td>\n",
       "      <td>13</td>\n",
       "      <td>5.0</td>\n",
       "      <td>33.8</td>\n",
       "    </tr>\n",
       "    <tr>\n",
       "      <th>2</th>\n",
       "      <td>3</td>\n",
       "      <td>3</td>\n",
       "      <td>4</td>\n",
       "      <td>93</td>\n",
       "      <td>305</td>\n",
       "      <td>101</td>\n",
       "      <td>0</td>\n",
       "      <td>74</td>\n",
       "      <td>48</td>\n",
       "      <td>1.0</td>\n",
       "      <td>6.5</td>\n",
       "    </tr>\n",
       "    <tr>\n",
       "      <th>3</th>\n",
       "      <td>7</td>\n",
       "      <td>5</td>\n",
       "      <td>12</td>\n",
       "      <td>275</td>\n",
       "      <td>401</td>\n",
       "      <td>128</td>\n",
       "      <td>0</td>\n",
       "      <td>45</td>\n",
       "      <td>17</td>\n",
       "      <td>1.0</td>\n",
       "      <td>0.0</td>\n",
       "    </tr>\n",
       "    <tr>\n",
       "      <th>4</th>\n",
       "      <td>8</td>\n",
       "      <td>12</td>\n",
       "      <td>25</td>\n",
       "      <td>132</td>\n",
       "      <td>168</td>\n",
       "      <td>23</td>\n",
       "      <td>0</td>\n",
       "      <td>122</td>\n",
       "      <td>21</td>\n",
       "      <td>3.0</td>\n",
       "      <td>0.0</td>\n",
       "    </tr>\n",
       "  </tbody>\n",
       "</table>\n",
       "</div>"
      ],
      "text/plain": [
       "   x1  x2  x3    x4   x5   x6  x7   x8  x9  x10   x11\n",
       "0  25  18  12  1738  393  215   0   67  44  4.6   7.6\n",
       "1   1   8   0   858  278  115  13   28  13  5.0  33.8\n",
       "2   3   3   4    93  305  101   0   74  48  1.0   6.5\n",
       "3   7   5  12   275  401  128   0   45  17  1.0   0.0\n",
       "4   8  12  25   132  168   23   0  122  21  3.0   0.0"
      ]
     },
     "execution_count": 45,
     "metadata": {},
     "output_type": "execute_result"
    }
   ],
   "source": [
    "df_test"
   ]
  },
  {
   "cell_type": "markdown",
   "metadata": {},
   "source": [
    "Tomado como numpy array..."
   ]
  },
  {
   "cell_type": "code",
   "execution_count": 46,
   "metadata": {},
   "outputs": [],
   "source": [
    "np_array = df_test.values"
   ]
  },
  {
   "cell_type": "code",
   "execution_count": 47,
   "metadata": {},
   "outputs": [
    {
     "data": {
      "text/plain": [
       "array([[2.500e+01, 1.800e+01, 1.200e+01, 1.738e+03, 3.930e+02, 2.150e+02,\n",
       "        0.000e+00, 6.700e+01, 4.400e+01, 4.600e+00, 7.600e+00],\n",
       "       [1.000e+00, 8.000e+00, 0.000e+00, 8.580e+02, 2.780e+02, 1.150e+02,\n",
       "        1.300e+01, 2.800e+01, 1.300e+01, 5.000e+00, 3.380e+01],\n",
       "       [3.000e+00, 3.000e+00, 4.000e+00, 9.300e+01, 3.050e+02, 1.010e+02,\n",
       "        0.000e+00, 7.400e+01, 4.800e+01, 1.000e+00, 6.500e+00],\n",
       "       [7.000e+00, 5.000e+00, 1.200e+01, 2.750e+02, 4.010e+02, 1.280e+02,\n",
       "        0.000e+00, 4.500e+01, 1.700e+01, 1.000e+00, 0.000e+00],\n",
       "       [8.000e+00, 1.200e+01, 2.500e+01, 1.320e+02, 1.680e+02, 2.300e+01,\n",
       "        0.000e+00, 1.220e+02, 2.100e+01, 3.000e+00, 0.000e+00]])"
      ]
     },
     "execution_count": 47,
     "metadata": {},
     "output_type": "execute_result"
    }
   ],
   "source": [
    "np_array"
   ]
  },
  {
   "cell_type": "markdown",
   "metadata": {},
   "source": [
    "Cálculo del mínimo y el máximo de cada atributo"
   ]
  },
  {
   "cell_type": "code",
   "execution_count": 48,
   "metadata": {},
   "outputs": [
    {
     "data": {
      "text/plain": [
       "25.0"
      ]
     },
     "execution_count": 48,
     "metadata": {},
     "output_type": "execute_result"
    }
   ],
   "source": [
    "np_array[:,0].max()"
   ]
  },
  {
   "cell_type": "code",
   "execution_count": 49,
   "metadata": {},
   "outputs": [],
   "source": [
    "max_values = []\n",
    "min_values = []\n",
    "for i in range(0, len(np_array[0,:])):\n",
    "    max_values.append(np_array[:,i].max())\n",
    "    min_values.append(np_array[:,i].min())    "
   ]
  },
  {
   "cell_type": "code",
   "execution_count": 50,
   "metadata": {},
   "outputs": [
    {
     "data": {
      "text/plain": [
       "[25.0, 18.0, 25.0, 1738.0, 401.0, 215.0, 13.0, 122.0, 48.0, 5.0, 33.8]"
      ]
     },
     "execution_count": 50,
     "metadata": {},
     "output_type": "execute_result"
    }
   ],
   "source": [
    "max_values"
   ]
  },
  {
   "cell_type": "code",
   "execution_count": 51,
   "metadata": {},
   "outputs": [
    {
     "data": {
      "text/plain": [
       "[1.0, 3.0, 0.0, 93.0, 168.0, 23.0, 0.0, 28.0, 13.0, 1.0, 0.0]"
      ]
     },
     "execution_count": 51,
     "metadata": {},
     "output_type": "execute_result"
    }
   ],
   "source": [
    "min_values"
   ]
  },
  {
   "cell_type": "code",
   "execution_count": 52,
   "metadata": {},
   "outputs": [],
   "source": [
    "max_values = df_test.max()\n",
    "min_values = df_test.min()"
   ]
  },
  {
   "cell_type": "code",
   "execution_count": 53,
   "metadata": {},
   "outputs": [
    {
     "data": {
      "text/plain": [
       "x1       25.0\n",
       "x2       18.0\n",
       "x3       25.0\n",
       "x4     1738.0\n",
       "x5      401.0\n",
       "x6      215.0\n",
       "x7       13.0\n",
       "x8      122.0\n",
       "x9       48.0\n",
       "x10       5.0\n",
       "x11      33.8\n",
       "dtype: float64"
      ]
     },
     "execution_count": 53,
     "metadata": {},
     "output_type": "execute_result"
    }
   ],
   "source": [
    "max_values"
   ]
  },
  {
   "cell_type": "code",
   "execution_count": 54,
   "metadata": {},
   "outputs": [
    {
     "data": {
      "text/plain": [
       "x1       1.0\n",
       "x2       3.0\n",
       "x3       0.0\n",
       "x4      93.0\n",
       "x5     168.0\n",
       "x6      23.0\n",
       "x7       0.0\n",
       "x8      28.0\n",
       "x9      13.0\n",
       "x10      1.0\n",
       "x11      0.0\n",
       "dtype: float64"
      ]
     },
     "execution_count": 54,
     "metadata": {},
     "output_type": "execute_result"
    }
   ],
   "source": [
    "min_values"
   ]
  },
  {
   "cell_type": "markdown",
   "metadata": {},
   "source": [
    "Cálculo de la distancia Euclídea"
   ]
  },
  {
   "cell_type": "code",
   "execution_count": 55,
   "metadata": {},
   "outputs": [
    {
     "data": {
      "text/plain": [
       "array([[0., 0., 0., 0., 0.],\n",
       "       [0., 0., 0., 0., 0.],\n",
       "       [0., 0., 0., 0., 0.],\n",
       "       [0., 0., 0., 0., 0.],\n",
       "       [0., 0., 0., 0., 0.]])"
      ]
     },
     "execution_count": 55,
     "metadata": {},
     "output_type": "execute_result"
    }
   ],
   "source": [
    "distance_matrix = np.zeros((df_test.shape[0],df_test.shape[0]))\n",
    "distance_matrix"
   ]
  },
  {
   "cell_type": "code",
   "execution_count": 56,
   "metadata": {},
   "outputs": [
    {
     "data": {
      "text/plain": [
       "x1       25.0\n",
       "x2       18.0\n",
       "x3       12.0\n",
       "x4     1738.0\n",
       "x5      393.0\n",
       "x6      215.0\n",
       "x7        0.0\n",
       "x8       67.0\n",
       "x9       44.0\n",
       "x10       4.6\n",
       "x11       7.6\n",
       "Name: 0, dtype: float64"
      ]
     },
     "execution_count": 56,
     "metadata": {},
     "output_type": "execute_result"
    }
   ],
   "source": [
    "df_test.iloc[0,:]"
   ]
  },
  {
   "cell_type": "code",
   "execution_count": 57,
   "metadata": {},
   "outputs": [
    {
     "data": {
      "text/plain": [
       "2.0352233516439666"
      ]
     },
     "execution_count": 57,
     "metadata": {},
     "output_type": "execute_result"
    }
   ],
   "source": [
    "((((np_array[0,:] - np_array[1,:]) / max_values) ** 2).sum()) ** (1/2)"
   ]
  },
  {
   "cell_type": "markdown",
   "metadata": {},
   "source": [
    "Cálculo de la distancia para un solo elemento"
   ]
  },
  {
   "cell_type": "code",
   "execution_count": 58,
   "metadata": {},
   "outputs": [
    {
     "data": {
      "text/plain": [
       "2.245745426633766"
      ]
     },
     "execution_count": 58,
     "metadata": {},
     "output_type": "execute_result"
    }
   ],
   "source": [
    "result = mt.sqrt((((df_test.iloc[0,:] - df_test.iloc[1, :])/ (max_values - min_values)) ** 2).sum())\n",
    "result"
   ]
  },
  {
   "cell_type": "code",
   "execution_count": 59,
   "metadata": {},
   "outputs": [],
   "source": [
    "delta_values = max_values.values - min_values.values"
   ]
  },
  {
   "cell_type": "code",
   "execution_count": 60,
   "metadata": {},
   "outputs": [
    {
     "data": {
      "text/plain": [
       "array([  24. ,   15. ,   25. , 1645. ,  233. ,  192. ,   13. ,   94. ,\n",
       "         35. ,    4. ,   33.8])"
      ]
     },
     "execution_count": 60,
     "metadata": {},
     "output_type": "execute_result"
    }
   ],
   "source": [
    "delta_values"
   ]
  },
  {
   "cell_type": "code",
   "execution_count": 61,
   "metadata": {},
   "outputs": [
    {
     "data": {
      "text/plain": [
       "array([ 2.40e+01,  1.00e+01,  1.20e+01,  8.80e+02,  1.15e+02,  1.00e+02,\n",
       "       -1.30e+01,  3.90e+01,  3.10e+01, -4.00e-01, -2.62e+01])"
      ]
     },
     "execution_count": 61,
     "metadata": {},
     "output_type": "execute_result"
    }
   ],
   "source": [
    "df_test.iloc[0,:].values - df_test.iloc[1,:].values"
   ]
  },
  {
   "cell_type": "code",
   "execution_count": 62,
   "metadata": {},
   "outputs": [
    {
     "data": {
      "text/plain": [
       "array([[0.        , 2.03522335, 1.82375693, 1.68244129, 1.84279648],\n",
       "       [0.        , 0.        , 1.81049522, 1.78672951, 2.08376151],\n",
       "       [0.        , 0.        , 0.        , 0.85731085, 1.38297799],\n",
       "       [0.        , 0.        , 0.        , 0.        , 1.25356266],\n",
       "       [0.        , 0.        , 0.        , 0.        , 0.        ]])"
      ]
     },
     "execution_count": 62,
     "metadata": {},
     "output_type": "execute_result"
    }
   ],
   "source": [
    "for i in range(0, len(distance_matrix[0])):\n",
    "    for j in range(0, len(distance_matrix[0])):\n",
    "        if(j > i):\n",
    "            #distance_matrix[i][j] = ((((df_test.iloc[i,:] - df_test.iloc[j, :])/ delta_values) ** 2).sum()) ** (1/2)\n",
    "            #distance_matrix[i][j] = (df_test.iloc[i,:].values - df_test.iloc[j,:].values).sum()\n",
    "            #distance_matrix[i][j] = ((((df_test.iloc[i,:].values - df_test.iloc[j,:].values)/ delta_values) ** 2).sum()) ** (1/2)\n",
    "            distance_matrix[i][j] = ((((np_array[i,:] - np_array[j,:]) / max_values) ** 2).sum()) ** (1/2)\n",
    "distance_matrix"
   ]
  },
  {
   "cell_type": "markdown",
   "metadata": {},
   "source": [
    "Cálculo de la similaridad"
   ]
  },
  {
   "cell_type": "code",
   "execution_count": 63,
   "metadata": {},
   "outputs": [],
   "source": [
    "similarity_matrix = np.zeros((df_test.shape[0],df_test.shape[0]))"
   ]
  },
  {
   "cell_type": "code",
   "execution_count": 64,
   "metadata": {},
   "outputs": [
    {
     "data": {
      "text/plain": [
       "array([[0.        , 0.36145719, 0.40176881, 0.43118388, 0.3979622 ],\n",
       "       [0.        , 0.        , 0.40444173, 0.40927632, 0.35279054],\n",
       "       [0.        , 0.        , 0.        , 0.65138434, 0.50082978],\n",
       "       [0.        , 0.        , 0.        , 0.        , 0.5343088 ],\n",
       "       [0.        , 0.        , 0.        , 0.        , 0.        ]])"
      ]
     },
     "execution_count": 64,
     "metadata": {},
     "output_type": "execute_result"
    }
   ],
   "source": [
    "for i in range(0, len(similarity_matrix[0])):\n",
    "    for j in range(0, len(similarity_matrix)):\n",
    "        if(j > i):\n",
    "            similarity_matrix[i][j] = np.exp(-0.5 * distance_matrix[i][j])\n",
    "similarity_matrix"
   ]
  },
  {
   "cell_type": "markdown",
   "metadata": {},
   "source": [
    "Cálculo de la entropía"
   ]
  },
  {
   "cell_type": "code",
   "execution_count": 65,
   "metadata": {},
   "outputs": [],
   "source": [
    "entropy_matrix = np.zeros((df_test.shape[0],df_test.shape[0]))"
   ]
  },
  {
   "cell_type": "code",
   "execution_count": 66,
   "metadata": {},
   "outputs": [
    {
     "data": {
      "text/plain": [
       "array([[ 0.        , -0.94388612, -0.97197588, -0.98629231, -0.96974607],\n",
       "       [ 0.        ,  0.        , -0.97348961, -0.97611891, -0.93653559],\n",
       "       [ 0.        ,  0.        ,  0.        , -0.93282564, -0.99999801],\n",
       "       [ 0.        ,  0.        ,  0.        ,  0.        , -0.99660096],\n",
       "       [ 0.        ,  0.        ,  0.        ,  0.        ,  0.        ]])"
      ]
     },
     "execution_count": 66,
     "metadata": {},
     "output_type": "execute_result"
    }
   ],
   "source": [
    "for i in range(0, len(similarity_matrix[0])):\n",
    "    for j in range(0, len(similarity_matrix)):\n",
    "        if(j > i):\n",
    "            n = similarity_matrix[i][j]\n",
    "            if(n != 0 and n!= 1):\n",
    "                entropy_matrix[i][j] = n * np.log2(n) + (1 - n) * np.log2(1 - n)\n",
    "entropy_matrix"
   ]
  },
  {
   "cell_type": "code",
   "execution_count": 67,
   "metadata": {},
   "outputs": [
    {
     "data": {
      "text/plain": [
       "9.687469097402092"
      ]
     },
     "execution_count": 67,
     "metadata": {},
     "output_type": "execute_result"
    }
   ],
   "source": [
    "total_entropy = entropy_matrix.sum() * -1\n",
    "total_entropy"
   ]
  },
  {
   "cell_type": "markdown",
   "metadata": {},
   "source": [
    "## Ahora se calcula la entropía para un subconjunto de atributos del dataset original"
   ]
  },
  {
   "cell_type": "code",
   "execution_count": 68,
   "metadata": {},
   "outputs": [
    {
     "data": {
      "text/html": [
       "<div>\n",
       "<style scoped>\n",
       "    .dataframe tbody tr th:only-of-type {\n",
       "        vertical-align: middle;\n",
       "    }\n",
       "\n",
       "    .dataframe tbody tr th {\n",
       "        vertical-align: top;\n",
       "    }\n",
       "\n",
       "    .dataframe thead th {\n",
       "        text-align: right;\n",
       "    }\n",
       "</style>\n",
       "<table border=\"1\" class=\"dataframe\">\n",
       "  <thead>\n",
       "    <tr style=\"text-align: right;\">\n",
       "      <th></th>\n",
       "      <th>x1</th>\n",
       "      <th>x2</th>\n",
       "      <th>x3</th>\n",
       "      <th>x4</th>\n",
       "      <th>x5</th>\n",
       "      <th>x6</th>\n",
       "      <th>x7</th>\n",
       "      <th>x8</th>\n",
       "      <th>x9</th>\n",
       "      <th>x10</th>\n",
       "    </tr>\n",
       "  </thead>\n",
       "  <tbody>\n",
       "    <tr>\n",
       "      <th>0</th>\n",
       "      <td>25</td>\n",
       "      <td>18</td>\n",
       "      <td>12</td>\n",
       "      <td>1738</td>\n",
       "      <td>393</td>\n",
       "      <td>215</td>\n",
       "      <td>0</td>\n",
       "      <td>67</td>\n",
       "      <td>44</td>\n",
       "      <td>4.6</td>\n",
       "    </tr>\n",
       "    <tr>\n",
       "      <th>1</th>\n",
       "      <td>1</td>\n",
       "      <td>8</td>\n",
       "      <td>0</td>\n",
       "      <td>858</td>\n",
       "      <td>278</td>\n",
       "      <td>115</td>\n",
       "      <td>13</td>\n",
       "      <td>28</td>\n",
       "      <td>13</td>\n",
       "      <td>5.0</td>\n",
       "    </tr>\n",
       "    <tr>\n",
       "      <th>2</th>\n",
       "      <td>3</td>\n",
       "      <td>3</td>\n",
       "      <td>4</td>\n",
       "      <td>93</td>\n",
       "      <td>305</td>\n",
       "      <td>101</td>\n",
       "      <td>0</td>\n",
       "      <td>74</td>\n",
       "      <td>48</td>\n",
       "      <td>1.0</td>\n",
       "    </tr>\n",
       "    <tr>\n",
       "      <th>3</th>\n",
       "      <td>7</td>\n",
       "      <td>5</td>\n",
       "      <td>12</td>\n",
       "      <td>275</td>\n",
       "      <td>401</td>\n",
       "      <td>128</td>\n",
       "      <td>0</td>\n",
       "      <td>45</td>\n",
       "      <td>17</td>\n",
       "      <td>1.0</td>\n",
       "    </tr>\n",
       "    <tr>\n",
       "      <th>4</th>\n",
       "      <td>8</td>\n",
       "      <td>12</td>\n",
       "      <td>25</td>\n",
       "      <td>132</td>\n",
       "      <td>168</td>\n",
       "      <td>23</td>\n",
       "      <td>0</td>\n",
       "      <td>122</td>\n",
       "      <td>21</td>\n",
       "      <td>3.0</td>\n",
       "    </tr>\n",
       "  </tbody>\n",
       "</table>\n",
       "</div>"
      ],
      "text/plain": [
       "   x1  x2  x3    x4   x5   x6  x7   x8  x9  x10\n",
       "0  25  18  12  1738  393  215   0   67  44  4.6\n",
       "1   1   8   0   858  278  115  13   28  13  5.0\n",
       "2   3   3   4    93  305  101   0   74  48  1.0\n",
       "3   7   5  12   275  401  128   0   45  17  1.0\n",
       "4   8  12  25   132  168   23   0  122  21  3.0"
      ]
     },
     "execution_count": 68,
     "metadata": {},
     "output_type": "execute_result"
    }
   ],
   "source": [
    "df_test_a = df_test.drop(df_test.columns[10], axis = 'columns').copy()\n",
    "df_test_a"
   ]
  },
  {
   "cell_type": "code",
   "execution_count": 69,
   "metadata": {},
   "outputs": [],
   "source": [
    "max_values = df_test_a.max()\n",
    "min_values = df_test_a.min()"
   ]
  },
  {
   "cell_type": "code",
   "execution_count": 70,
   "metadata": {},
   "outputs": [
    {
     "data": {
      "text/plain": [
       "array([[0., 0., 0., 0., 0.],\n",
       "       [0., 0., 0., 0., 0.],\n",
       "       [0., 0., 0., 0., 0.],\n",
       "       [0., 0., 0., 0., 0.],\n",
       "       [0., 0., 0., 0., 0.]])"
      ]
     },
     "execution_count": 70,
     "metadata": {},
     "output_type": "execute_result"
    }
   ],
   "source": [
    "distance_matrix = np.zeros((df_test_a.shape[0],df_test_a.shape[0]))\n",
    "distance_matrix"
   ]
  },
  {
   "cell_type": "code",
   "execution_count": 71,
   "metadata": {},
   "outputs": [
    {
     "data": {
      "text/plain": [
       "array([[0.        , 2.10772821, 2.06554292, 1.94189455, 2.17990306],\n",
       "       [0.        , 0.        , 1.90214164, 1.66959052, 2.02624926],\n",
       "       [0.        , 0.        , 0.        , 1.10878246, 1.65111515],\n",
       "       [0.        , 0.        , 0.        , 0.        , 1.65245551],\n",
       "       [0.        , 0.        , 0.        , 0.        , 0.        ]])"
      ]
     },
     "execution_count": 71,
     "metadata": {},
     "output_type": "execute_result"
    }
   ],
   "source": [
    "for i in range(0, len(distance_matrix[0])):\n",
    "    for j in range(0, len(distance_matrix)):\n",
    "        if(j > i):\n",
    "            distance_matrix[i][j] = mt.sqrt((((df_test_a.iloc[i,:] - df_test_a.iloc[j, :])/ (max_values - min_values)) ** 2).sum())\n",
    "distance_matrix"
   ]
  },
  {
   "cell_type": "code",
   "execution_count": 72,
   "metadata": {},
   "outputs": [],
   "source": [
    "similarity_matrix = np.zeros((df_test_a.shape[0],df_test_a.shape[0]))"
   ]
  },
  {
   "cell_type": "code",
   "execution_count": 73,
   "metadata": {},
   "outputs": [
    {
     "data": {
      "text/plain": [
       "array([[0.        , 0.34858816, 0.3560189 , 0.37872411, 0.33623279],\n",
       "       [0.        , 0.        , 0.38632712, 0.43396332, 0.36308271],\n",
       "       [0.        , 0.        , 0.        , 0.57442185, 0.43799071],\n",
       "       [0.        , 0.        , 0.        , 0.        , 0.43769728],\n",
       "       [0.        , 0.        , 0.        , 0.        , 0.        ]])"
      ]
     },
     "execution_count": 73,
     "metadata": {},
     "output_type": "execute_result"
    }
   ],
   "source": [
    "for i in range(0, len(similarity_matrix[0])):\n",
    "    for j in range(0, len(similarity_matrix)):\n",
    "        if(j > i):\n",
    "            similarity_matrix[i][j] = np.exp(-0.5 * distance_matrix[i][j])\n",
    "similarity_matrix"
   ]
  },
  {
   "cell_type": "code",
   "execution_count": 74,
   "metadata": {},
   "outputs": [],
   "source": [
    "entropy_matrix = np.zeros((df_test_a.shape[0],df_test_a.shape[0]))"
   ]
  },
  {
   "cell_type": "code",
   "execution_count": 75,
   "metadata": {},
   "outputs": [
    {
     "data": {
      "text/plain": [
       "array([[ 0.        , -0.93280084, -0.93932888, -0.95713592, -0.92116804],\n",
       "       [ 0.        ,  0.        , -0.96238836, -0.98738043, -0.94521235],\n",
       "       [ 0.        ,  0.        ,  0.        , -0.98395941, -0.98887662],\n",
       "       [ 0.        ,  0.        ,  0.        ,  0.        , -0.98877082],\n",
       "       [ 0.        ,  0.        ,  0.        ,  0.        ,  0.        ]])"
      ]
     },
     "execution_count": 75,
     "metadata": {},
     "output_type": "execute_result"
    }
   ],
   "source": [
    "for i in range(0, len(similarity_matrix[0])):\n",
    "    for j in range(0, len(similarity_matrix)):\n",
    "        if(j > i):\n",
    "            n = similarity_matrix[i][j]\n",
    "            if(n != 0 and n!= 1):\n",
    "                entropy_matrix[i][j] = n * np.log2(n) + (1 - n) * np.log2(1 - n)\n",
    "entropy_matrix"
   ]
  },
  {
   "cell_type": "code",
   "execution_count": 76,
   "metadata": {},
   "outputs": [
    {
     "data": {
      "text/plain": [
       "9.60702165773433"
      ]
     },
     "execution_count": 76,
     "metadata": {},
     "output_type": "execute_result"
    }
   ],
   "source": [
    "parcial_entropy = entropy_matrix.sum() * -1\n",
    "parcial_entropy"
   ]
  },
  {
   "cell_type": "code",
   "execution_count": 89,
   "metadata": {},
   "outputs": [],
   "source": [
    "def select_numeric_attribute(df):\n",
    "    np_array = df.values\n",
    "    max_values = []\n",
    "    min_values = []\n",
    "    for i in range(0, len(np_array[0,:])):\n",
    "        max_values.append(np_array[:,i].max())\n",
    "        min_values.append(np_array[:,i].min())\n",
    "    #max_values = df.max()\n",
    "    #min_values = df.min()\n",
    "    distance_matrix = np.zeros((df.shape[0],df.shape[0]))\n",
    "    similarity_matrix = distance_matrix.copy()\n",
    "    entropy_matrix = distance_matrix.copy()\n",
    "\n",
    "    for i in range(0, len(distance_matrix[0])):\n",
    "        for j in range(0, len(distance_matrix[0])):\n",
    "            if(j > i):\n",
    "                distance_matrix[i][j] = ((((np_array[i,:] - np_array[j,:]) / max_values) ** 2).sum()) ** (1/2)\n",
    "    \n",
    "    for i in range(0, len(similarity_matrix[0])):\n",
    "        for j in range(0, len(similarity_matrix)):\n",
    "            if(j > i):\n",
    "                similarity_matrix[i][j] = np.exp(-0.5 * distance_matrix[i][j])\n",
    "    \n",
    "    for i in range(0, len(similarity_matrix[0])):\n",
    "        for j in range(0, len(similarity_matrix)):\n",
    "            if(j > i):\n",
    "                n = similarity_matrix[i][j]\n",
    "                if(n != 0 and n!= 1):\n",
    "                    entropy_matrix[i][j] = n * np.log2(n) + (1 - n) * np.log2(1 - n)\n",
    "    parcial_entropy = entropy_matrix.sum() * -1\n",
    "    return parcial_entropy\n"
   ]
  },
  {
   "cell_type": "code",
   "execution_count": 92,
   "metadata": {},
   "outputs": [],
   "source": [
    "def select_numeric_attribute(df):\n",
    "        np_array = df.values\n",
    "        max_values = []\n",
    "        for i in range(0, len(np_array[0,:])):\n",
    "            max_values.append(np_array[:,i].max())\n",
    "        entropy_matrix = np.zeros((df.shape[0],df.shape[0]))\n",
    "            \n",
    "        for i in range(0, len(entropy_matrix[0])):\n",
    "            for j in range(0, len(entropy_matrix[0])):\n",
    "                if(j > i):\n",
    "                    distance_result = ((((np_array[i,:] - np_array[j,:]) / max_values) ** 2).sum()) ** (1/2)\n",
    "                    similarity_result = np.exp(-0.5 * distance_result)\n",
    "                    n = similarity_result\n",
    "                    if(n != 0 and n!= 1):\n",
    "                        entropy_matrix[i][j] = n * np.log2(n) + (1 - n) * np.log2(1 - n)\n",
    "        \n",
    "        n_entropy = entropy_matrix.sum() * -1\n",
    "        return n_entropy"
   ]
  },
  {
   "cell_type": "code",
   "execution_count": 93,
   "metadata": {},
   "outputs": [],
   "source": [
    "resumen = {}\n",
    "entropias = []\n",
    "entropia_total = round(select_numeric_attribute(df_test), 3)\n",
    "resumen['Entropía general'] = select_numeric_attribute(df_test)\n",
    "for i in df_test.columns:\n",
    "    entropia = round(select_numeric_attribute(df_test.drop(i, axis = 1).copy()), 3)\n",
    "    entropias.append(entropia)\n",
    "    resumen['Sin ' + i] = entropia"
   ]
  },
  {
   "cell_type": "code",
   "execution_count": 94,
   "metadata": {},
   "outputs": [
    {
     "data": {
      "text/plain": [
       "{'Entropía general': 9.687469097402092,\n",
       " 'Sin x1': 9.764,\n",
       " 'Sin x2': 9.729,\n",
       " 'Sin x3': 9.704,\n",
       " 'Sin x4': 9.769,\n",
       " 'Sin x5': 9.684,\n",
       " 'Sin x6': 9.726,\n",
       " 'Sin x7': 9.802,\n",
       " 'Sin x8': 9.698,\n",
       " 'Sin x9': 9.601,\n",
       " 'Sin x10': 9.751,\n",
       " 'Sin x11': 9.78}"
      ]
     },
     "execution_count": 94,
     "metadata": {},
     "output_type": "execute_result"
    }
   ],
   "source": [
    "resumen"
   ]
  },
  {
   "cell_type": "code",
   "execution_count": 101,
   "metadata": {},
   "outputs": [
    {
     "data": {
      "text/plain": [
       "array([0.077, 0.042, 0.017, 0.082, 0.003, 0.039, 0.115, 0.011, 0.086,\n",
       "       0.064, 0.093])"
      ]
     },
     "execution_count": 101,
     "metadata": {},
     "output_type": "execute_result"
    }
   ],
   "source": [
    "entropias = np.array(entropias)\n",
    "a_restar = np.ones(len(entropias))\n",
    "a_restar *= entropia_total\n",
    "restas = np.absolute(a_restar - entropias)\n",
    "restas"
   ]
  },
  {
   "cell_type": "code",
   "execution_count": 102,
   "metadata": {},
   "outputs": [],
   "source": [
    "minima_resta = restas.min()"
   ]
  },
  {
   "cell_type": "code",
   "execution_count": 105,
   "metadata": {},
   "outputs": [
    {
     "data": {
      "text/plain": [
       "(array([4], dtype=int64),)"
      ]
     },
     "execution_count": 105,
     "metadata": {},
     "output_type": "execute_result"
    }
   ],
   "source": [
    "indexes = np.where(restas == minima_resta)\n",
    "indexes"
   ]
  },
  {
   "cell_type": "code",
   "execution_count": 106,
   "metadata": {},
   "outputs": [],
   "source": [
    "attrs = df_test.columns[indexes]"
   ]
  },
  {
   "cell_type": "code",
   "execution_count": 107,
   "metadata": {},
   "outputs": [
    {
     "data": {
      "text/plain": [
       "Index(['x5'], dtype='object')"
      ]
     },
     "execution_count": 107,
     "metadata": {},
     "output_type": "execute_result"
    }
   ],
   "source": [
    "attrs"
   ]
  },
  {
   "cell_type": "markdown",
   "metadata": {},
   "source": [
    "# Identificación de atributos de tipo categóricos y numérico\n",
    "---"
   ]
  },
  {
   "cell_type": "code",
   "execution_count": null,
   "metadata": {},
   "outputs": [],
   "source": [
    "frame_test"
   ]
  },
  {
   "cell_type": "code",
   "execution_count": null,
   "metadata": {},
   "outputs": [],
   "source": [
    "frame_test.info()"
   ]
  },
  {
   "cell_type": "code",
   "execution_count": null,
   "metadata": {},
   "outputs": [],
   "source": [
    "df_test"
   ]
  },
  {
   "cell_type": "code",
   "execution_count": null,
   "metadata": {},
   "outputs": [],
   "source": [
    "def kind_of_attribute(df):\n",
    "    for i in df.columns:\n",
    "        if df[i].dtype == 'object':\n",
    "            print('El atributo ' + i + ' es categórico')\n",
    "        else:\n",
    "            if(df[i].value_counts().count() < len(df[i])/3):\n",
    "                print('El atributo ' + i + ' es categórico')\n",
    "            else:\n",
    "                print('El atributo ' + i + ' es numérico')"
   ]
  },
  {
   "cell_type": "code",
   "execution_count": null,
   "metadata": {},
   "outputs": [],
   "source": [
    "kind_of_attribute(frame_test)"
   ]
  }
 ],
 "metadata": {
  "kernelspec": {
   "display_name": "Python 3",
   "language": "python",
   "name": "python3"
  },
  "language_info": {
   "codemirror_mode": {
    "name": "ipython",
    "version": 3
   },
   "file_extension": ".py",
   "mimetype": "text/x-python",
   "name": "python",
   "nbconvert_exporter": "python",
   "pygments_lexer": "ipython3",
   "version": "3.7.6"
  }
 },
 "nbformat": 4,
 "nbformat_minor": 4
}
